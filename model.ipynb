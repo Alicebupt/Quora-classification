{
 "cells": [
  {
   "cell_type": "code",
   "execution_count": null,
   "metadata": {},
   "outputs": [],
   "source": [
    "import pandas as pd\n",
    "from sklearn import svm\n",
    "from sklearn.model_selection import train_test_split\n",
    "from sklearn.externals import joblib\n",
    "from sklearn.model_selection import cross_val_score\n",
    "import time\n",
    "\n",
    "def main():\n",
    "    # 数据预处理\n",
    "    train_df = pd.read_csv('dataset/train_47char.csv')  # train set\n",
    "    X = train_df[['loan_amnt', 'funded_amnt', 'int_rate', 'grade']]            # 获取特征列\n",
    "    # print(train_df['grade'].value_counts())\n",
    "    # 对非数值数据进行数值化处理，one-hot编码\n",
    "    grade_mapping = {'A': 1, 'B': 2, 'C': 3, 'D': 4,'E': 5, 'F': 6, 'G': 7}\n",
    "    X['grade'] = X['grade'].map(grade_mapping)\n",
    "    print(X.head(5))\n",
    "    Y = train_df[['acc_now_delinq']]                                           # 获取样本输出\n",
    "    print(Y.head(5))\n",
    "    X_train, X_test, Y_train, Y_test = train_test_split(X, Y, random_state=1)  # 分割训练集和测试集\n",
    "    print(X_train.shape, Y_train.shape, X_test.shape, Y_test.shape)            # 打印测试集和训练集维度\n",
    "\n",
    "    # SVM模型\n",
    "    x_train, y_train = get_batch(1, 10000, X_train, Y_train)\n",
    "    # svc_clf = svm.SVC(kernel=\"linear\").fit(x_train, y_train)\n",
    "    # rbf_svc = svm.SVC(kernel=\"rbf\", gamma=0.7).fit(x_train, y_train)\n",
    "    poly_svc = svm.SVC(kernel=\"poly\", degree=3).fit(x_train, y_train)\n",
    "    # lin_svc = svm.LinearSVC().fit(x_train, y_train)\n",
    "\n",
    "    joblib.dump(poly_svc, 'model/poly_svc.pkl')\n",
    "    # result = svc_clf.predict(X_test[1:100])\n",
    "    # print(result)\n",
    "\n",
    "    # model test\n",
    "    # result, metric = test_model('model/poly_svc.pkl', X_test[1:1000], Y_test[1:1000])\n",
    "    # print(result)\n",
    "    # print(metric)\n",
    "\n",
    "def get_batch(f_line, t_line, X_train, Y_train):\n",
    "    # 切片获取batch数据\n",
    "    return X_train[f_line:t_line], Y_train[f_line:t_line]\n",
    "\n",
    "    # combine = [train_df, test_df]\n",
    "    #\n",
    "    # # 查看前五条数据\n",
    "    # print(train_df.head(5))\n",
    "    # # 查看每列数据类型以及nan情况\n",
    "    # print(train_df.info())\n",
    "    # # 获得所有object属性\n",
    "    # print(train_df.describe(include=['O']).columns)\n",
    "    #\n",
    "    # # 查看连续数值属性基本统计情况\n",
    "    # print(train_df.describe())\n",
    "    # # 查看object属性数据统计情况\n",
    "    # print(train_df.describe(include=['O']))\n",
    "    # # 统计grade单列各个元素对应的个数\n",
    "    # print(train_df['addr_state'].value_counts())\n",
    "\n",
    "def test_model(model_path, X_test, Y_test):\n",
    "    clf = joblib.load(model_path)\n",
    "    result = clf.predict(X_test)\n",
    "    # score = clf.score(X_test, Y_test)\n",
    "    metric = cross_val_score(clf, X_test, Y_test, cv=5, scoring='accuracy').mean()\n",
    "    return result, metric\n",
    "\n",
    "start = time.clock()\n",
    "main()\n",
    "end = time.clock()\n",
    "print('Running time: %s Seconds' % (end-start))\n"
   ]
  },
  {
   "cell_type": "code",
   "execution_count": 1,
   "metadata": {},
   "outputs": [
    {
     "name": "stderr",
     "output_type": "stream",
     "text": [
      "IOPub data rate exceeded.\n",
      "The notebook server will temporarily stop sending output\n",
      "to the client in order to avoid crashing it.\n",
      "To change this limit, set the config variable\n",
      "`--NotebookApp.iopub_data_rate_limit`.\n",
      "\n",
      "Current values:\n",
      "NotebookApp.iopub_data_rate_limit=1000000.0 (bytes/sec)\n",
      "NotebookApp.rate_limit_window=3.0 (secs)\n",
      "\n"
     ]
    }
   ],
   "source": [
    "# 加载词向量\n",
    "embedding_path = '../Question_Answering_Models/cQA/data/embedding/glove.840B.300d.txt'\n",
    "with open(embedding_path, 'r', encoding='utf8') as f:\n",
    "    data = f.read()\n",
    "print(data)"
   ]
  },
  {
   "cell_type": "code",
   "execution_count": 4,
   "metadata": {},
   "outputs": [],
   "source": []
  },
  {
   "cell_type": "code",
   "execution_count": 5,
   "metadata": {},
   "outputs": [
    {
     "name": "stdout",
     "output_type": "stream",
     "text": [
      "<class 'str'>\n"
     ]
    }
   ],
   "source": []
  },
  {
   "cell_type": "code",
   "execution_count": null,
   "metadata": {},
   "outputs": [],
   "source": []
  }
 ],
 "metadata": {
  "kernelspec": {
   "display_name": "Python 3",
   "language": "python",
   "name": "python3"
  },
  "language_info": {
   "codemirror_mode": {
    "name": "ipython",
    "version": 3
   },
   "file_extension": ".py",
   "mimetype": "text/x-python",
   "name": "python",
   "nbconvert_exporter": "python",
   "pygments_lexer": "ipython3",
   "version": "3.6.5"
  }
 },
 "nbformat": 4,
 "nbformat_minor": 2
}
